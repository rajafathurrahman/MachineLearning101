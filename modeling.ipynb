{
 "cells": [
  {
   "cell_type": "markdown",
   "metadata": {},
   "source": [
    "## 1. <i>Import libraries</i>"
   ]
  },
  {
   "cell_type": "code",
   "execution_count": 2,
   "metadata": {},
   "outputs": [],
   "source": [
    "#basic library for datamanipulation\n",
    "import pandas as pd\n",
    "import numpy as np\n",
    "\n",
    "#library to save and load model\n",
    "from joblib import dump\n",
    "\n",
    "#library machine learning\n",
    "from sklearn.tree import DecisionTreeClassifier\n",
    "from sklearn.datasets import load_iris\n",
    "from sklearn.model_selection import train_test_split\n",
    "from sklearn.metrics import classification_report, confusion_matrix\n",
    "from sklearn.tree import export_graphviz\n",
    "import graphviz "
   ]
  },
  {
   "cell_type": "markdown",
   "metadata": {},
   "source": [
    "## 2. <i>Import dataset</i>"
   ]
  },
  {
   "cell_type": "markdown",
   "metadata": {},
   "source": [
    "https://en.wikipedia.org/wiki/Iris_flower_data_set#Data_set"
   ]
  },
  {
   "cell_type": "code",
   "execution_count": 41,
   "metadata": {},
   "outputs": [],
   "source": [
    "iris = load_iris()\n",
    "X = iris.data\n",
    "y = iris.target"
   ]
  },
  {
   "cell_type": "code",
   "execution_count": 46,
   "metadata": {},
   "outputs": [
    {
     "data": {
      "text/html": [
       "<div>\n",
       "<style scoped>\n",
       "    .dataframe tbody tr th:only-of-type {\n",
       "        vertical-align: middle;\n",
       "    }\n",
       "\n",
       "    .dataframe tbody tr th {\n",
       "        vertical-align: top;\n",
       "    }\n",
       "\n",
       "    .dataframe thead th {\n",
       "        text-align: right;\n",
       "    }\n",
       "</style>\n",
       "<table border=\"1\" class=\"dataframe\">\n",
       "  <thead>\n",
       "    <tr style=\"text-align: right;\">\n",
       "      <th></th>\n",
       "      <th>sepal length (cm)</th>\n",
       "      <th>sepal width (cm)</th>\n",
       "      <th>petal length (cm)</th>\n",
       "      <th>petal width (cm)</th>\n",
       "    </tr>\n",
       "  </thead>\n",
       "  <tbody>\n",
       "    <tr>\n",
       "      <th>0</th>\n",
       "      <td>5.1</td>\n",
       "      <td>3.5</td>\n",
       "      <td>1.4</td>\n",
       "      <td>0.2</td>\n",
       "    </tr>\n",
       "    <tr>\n",
       "      <th>1</th>\n",
       "      <td>4.9</td>\n",
       "      <td>3.0</td>\n",
       "      <td>1.4</td>\n",
       "      <td>0.2</td>\n",
       "    </tr>\n",
       "    <tr>\n",
       "      <th>2</th>\n",
       "      <td>4.7</td>\n",
       "      <td>3.2</td>\n",
       "      <td>1.3</td>\n",
       "      <td>0.2</td>\n",
       "    </tr>\n",
       "    <tr>\n",
       "      <th>3</th>\n",
       "      <td>4.6</td>\n",
       "      <td>3.1</td>\n",
       "      <td>1.5</td>\n",
       "      <td>0.2</td>\n",
       "    </tr>\n",
       "    <tr>\n",
       "      <th>4</th>\n",
       "      <td>5.0</td>\n",
       "      <td>3.6</td>\n",
       "      <td>1.4</td>\n",
       "      <td>0.2</td>\n",
       "    </tr>\n",
       "  </tbody>\n",
       "</table>\n",
       "</div>"
      ],
      "text/plain": [
       "   sepal length (cm)  sepal width (cm)  petal length (cm)  petal width (cm)\n",
       "0                5.1               3.5                1.4               0.2\n",
       "1                4.9               3.0                1.4               0.2\n",
       "2                4.7               3.2                1.3               0.2\n",
       "3                4.6               3.1                1.5               0.2\n",
       "4                5.0               3.6                1.4               0.2"
      ]
     },
     "execution_count": 46,
     "metadata": {},
     "output_type": "execute_result"
    }
   ],
   "source": [
    "pd.DataFrame(X,columns=iris.feature_names).head()"
   ]
  },
  {
   "cell_type": "code",
   "execution_count": 54,
   "metadata": {},
   "outputs": [
    {
     "data": {
      "text/plain": [
       "[setosa, setosa, setosa, setosa, setosa, ..., virginica, virginica, virginica, virginica, virginica]\n",
       "Length: 150\n",
       "Categories (3, object): [setosa, versicolor, virginica]"
      ]
     },
     "execution_count": 54,
     "metadata": {},
     "output_type": "execute_result"
    }
   ],
   "source": [
    "pd.Categorical.from_codes(iris.target, iris.target_names)"
   ]
  },
  {
   "cell_type": "markdown",
   "metadata": {},
   "source": [
    "## 3. Bagi data"
   ]
  },
  {
   "cell_type": "code",
   "execution_count": 63,
   "metadata": {},
   "outputs": [],
   "source": [
    "x_train, x_test, y_train, y_test = train_test_split(X,y,test_size=0.2,train_size=0.8)"
   ]
  },
  {
   "cell_type": "markdown",
   "metadata": {},
   "source": [
    "## 4. <i>Fitting</i> data"
   ]
  },
  {
   "cell_type": "code",
   "execution_count": 64,
   "metadata": {},
   "outputs": [],
   "source": [
    "tree = DecisionTreeClassifier()\n",
    "\n",
    "tree.fit(x_train, y_train)\n",
    "\n",
    "hasil = tree.predict(x_test)"
   ]
  },
  {
   "cell_type": "markdown",
   "metadata": {},
   "source": [
    "## 5. Cek Akurasi Data"
   ]
  },
  {
   "cell_type": "code",
   "execution_count": 65,
   "metadata": {},
   "outputs": [
    {
     "name": "stdout",
     "output_type": "stream",
     "text": [
      "[[12  0  0]\n",
      " [ 0  8  1]\n",
      " [ 0  0  9]]\n"
     ]
    }
   ],
   "source": [
    "print(confusion_matrix(hasil, y_test))"
   ]
  },
  {
   "cell_type": "markdown",
   "metadata": {},
   "source": [
    "![title](https://miro.medium.com/proxy/1*7EYylA6XlXSGBCF77j_rOA.png)"
   ]
  },
  {
   "cell_type": "code",
   "execution_count": 66,
   "metadata": {},
   "outputs": [
    {
     "name": "stdout",
     "output_type": "stream",
     "text": [
      "              precision    recall  f1-score   support\n",
      "\n",
      "           0       1.00      1.00      1.00        12\n",
      "           1       1.00      0.89      0.94         9\n",
      "           2       0.90      1.00      0.95         9\n",
      "\n",
      "    accuracy                           0.97        30\n",
      "   macro avg       0.97      0.96      0.96        30\n",
      "weighted avg       0.97      0.97      0.97        30\n",
      "\n"
     ]
    }
   ],
   "source": [
    "print(classification_report(hasil, y_test))"
   ]
  },
  {
   "cell_type": "markdown",
   "metadata": {},
   "source": [
    "![title](https://miro.medium.com/max/736/1*Y1WWhTFtl3cHLjTHmvnvWA.png)"
   ]
  },
  {
   "cell_type": "markdown",
   "metadata": {},
   "source": [
    "![title](https://miro.medium.com/max/736/1*5OXTw-kZdBwyiPv4n_FGuQ.jpeg)"
   ]
  },
  {
   "cell_type": "markdown",
   "metadata": {},
   "source": [
    "![title](https://miro.medium.com/max/736/1*Z5_hI-iOweeUtUfT6FimIg.jpeg)"
   ]
  },
  {
   "cell_type": "markdown",
   "metadata": {},
   "source": [
    "![title](https://miro.medium.com/max/716/1*98FaAKfPWo-EBTbjsxm4GA.png)"
   ]
  },
  {
   "cell_type": "markdown",
   "metadata": {},
   "source": [
    "## 6. Prosees DecisionTree"
   ]
  },
  {
   "cell_type": "code",
   "execution_count": 67,
   "metadata": {},
   "outputs": [
    {
     "data": {
      "image/svg+xml": [
       "<?xml version=\"1.0\" encoding=\"UTF-8\" standalone=\"no\"?>\n",
       "<!DOCTYPE svg PUBLIC \"-//W3C//DTD SVG 1.1//EN\"\n",
       " \"http://www.w3.org/Graphics/SVG/1.1/DTD/svg11.dtd\">\n",
       "<!-- Generated by graphviz version 2.40.1 (0)\n",
       " -->\n",
       "<!-- Title: Tree Pages: 1 -->\n",
       "<svg width=\"998pt\" height=\"671pt\"\n",
       " viewBox=\"0.00 0.00 998.00 671.00\" xmlns=\"http://www.w3.org/2000/svg\" xmlns:xlink=\"http://www.w3.org/1999/xlink\">\n",
       "<g id=\"graph0\" class=\"graph\" transform=\"scale(1 1) rotate(0) translate(4 667)\">\n",
       "<title>Tree</title>\n",
       "<polygon fill=\"#ffffff\" stroke=\"transparent\" points=\"-4,4 -4,-667 994,-667 994,4 -4,4\"/>\n",
       "<!-- 0 -->\n",
       "<g id=\"node1\" class=\"node\">\n",
       "<title>0</title>\n",
       "<path fill=\"#fafefc\" stroke=\"#000000\" d=\"M590.5,-663C590.5,-663 441.5,-663 441.5,-663 435.5,-663 429.5,-657 429.5,-651 429.5,-651 429.5,-592 429.5,-592 429.5,-586 435.5,-580 441.5,-580 441.5,-580 590.5,-580 590.5,-580 596.5,-580 602.5,-586 602.5,-592 602.5,-592 602.5,-651 602.5,-651 602.5,-657 596.5,-663 590.5,-663\"/>\n",
       "<text text-anchor=\"start\" x=\"437.5\" y=\"-647.8\" font-family=\"Helvetica,sans-Serif\" font-size=\"14.00\" fill=\"#000000\">petal width (cm) ≤ 0.8</text>\n",
       "<text text-anchor=\"start\" x=\"472\" y=\"-632.8\" font-family=\"Helvetica,sans-Serif\" font-size=\"14.00\" fill=\"#000000\">gini = 0.666</text>\n",
       "<text text-anchor=\"start\" x=\"463\" y=\"-617.8\" font-family=\"Helvetica,sans-Serif\" font-size=\"14.00\" fill=\"#000000\">samples = 120</text>\n",
       "<text text-anchor=\"start\" x=\"445\" y=\"-602.8\" font-family=\"Helvetica,sans-Serif\" font-size=\"14.00\" fill=\"#000000\">value = [38, 42, 40]</text>\n",
       "<text text-anchor=\"start\" x=\"454\" y=\"-587.8\" font-family=\"Helvetica,sans-Serif\" font-size=\"14.00\" fill=\"#000000\">class = versicolor</text>\n",
       "</g>\n",
       "<!-- 1 -->\n",
       "<g id=\"node2\" class=\"node\">\n",
       "<title>1</title>\n",
       "<path fill=\"#e58139\" stroke=\"#000000\" d=\"M485,-536.5C485,-536.5 369,-536.5 369,-536.5 363,-536.5 357,-530.5 357,-524.5 357,-524.5 357,-480.5 357,-480.5 357,-474.5 363,-468.5 369,-468.5 369,-468.5 485,-468.5 485,-468.5 491,-468.5 497,-474.5 497,-480.5 497,-480.5 497,-524.5 497,-524.5 497,-530.5 491,-536.5 485,-536.5\"/>\n",
       "<text text-anchor=\"start\" x=\"392\" y=\"-521.3\" font-family=\"Helvetica,sans-Serif\" font-size=\"14.00\" fill=\"#000000\">gini = 0.0</text>\n",
       "<text text-anchor=\"start\" x=\"378.5\" y=\"-506.3\" font-family=\"Helvetica,sans-Serif\" font-size=\"14.00\" fill=\"#000000\">samples = 38</text>\n",
       "<text text-anchor=\"start\" x=\"365\" y=\"-491.3\" font-family=\"Helvetica,sans-Serif\" font-size=\"14.00\" fill=\"#000000\">value = [38, 0, 0]</text>\n",
       "<text text-anchor=\"start\" x=\"376.5\" y=\"-476.3\" font-family=\"Helvetica,sans-Serif\" font-size=\"14.00\" fill=\"#000000\">class = setosa</text>\n",
       "</g>\n",
       "<!-- 0&#45;&gt;1 -->\n",
       "<g id=\"edge1\" class=\"edge\">\n",
       "<title>0&#45;&gt;1</title>\n",
       "<path fill=\"none\" stroke=\"#000000\" d=\"M484.8721,-579.8796C476.4014,-568.5536 467.2181,-556.2748 458.7153,-544.9058\"/>\n",
       "<polygon fill=\"#000000\" stroke=\"#000000\" points=\"461.4562,-542.7268 452.6641,-536.8149 455.8505,-546.9193 461.4562,-542.7268\"/>\n",
       "<text text-anchor=\"middle\" x=\"449.0953\" y=\"-557.8589\" font-family=\"Helvetica,sans-Serif\" font-size=\"14.00\" fill=\"#000000\">True</text>\n",
       "</g>\n",
       "<!-- 2 -->\n",
       "<g id=\"node3\" class=\"node\">\n",
       "<title>2</title>\n",
       "<path fill=\"#f6fef9\" stroke=\"#000000\" d=\"M685,-544C685,-544 527,-544 527,-544 521,-544 515,-538 515,-532 515,-532 515,-473 515,-473 515,-467 521,-461 527,-461 527,-461 685,-461 685,-461 691,-461 697,-467 697,-473 697,-473 697,-532 697,-532 697,-538 691,-544 685,-544\"/>\n",
       "<text text-anchor=\"start\" x=\"523\" y=\"-528.8\" font-family=\"Helvetica,sans-Serif\" font-size=\"14.00\" fill=\"#000000\">petal width (cm) ≤ 1.75</text>\n",
       "<text text-anchor=\"start\" x=\"571\" y=\"-513.8\" font-family=\"Helvetica,sans-Serif\" font-size=\"14.00\" fill=\"#000000\">gini = 0.5</text>\n",
       "<text text-anchor=\"start\" x=\"557.5\" y=\"-498.8\" font-family=\"Helvetica,sans-Serif\" font-size=\"14.00\" fill=\"#000000\">samples = 82</text>\n",
       "<text text-anchor=\"start\" x=\"539.5\" y=\"-483.8\" font-family=\"Helvetica,sans-Serif\" font-size=\"14.00\" fill=\"#000000\">value = [0, 42, 40]</text>\n",
       "<text text-anchor=\"start\" x=\"544\" y=\"-468.8\" font-family=\"Helvetica,sans-Serif\" font-size=\"14.00\" fill=\"#000000\">class = versicolor</text>\n",
       "</g>\n",
       "<!-- 0&#45;&gt;2 -->\n",
       "<g id=\"edge2\" class=\"edge\">\n",
       "<title>0&#45;&gt;2</title>\n",
       "<path fill=\"none\" stroke=\"#000000\" d=\"M547.4776,-579.8796C554.1529,-571.0534 561.2658,-561.6485 568.1496,-552.5466\"/>\n",
       "<polygon fill=\"#000000\" stroke=\"#000000\" points=\"571.1474,-554.3852 574.388,-544.2981 565.5643,-550.1626 571.1474,-554.3852\"/>\n",
       "<text text-anchor=\"middle\" x=\"577.824\" y=\"-565.3608\" font-family=\"Helvetica,sans-Serif\" font-size=\"14.00\" fill=\"#000000\">False</text>\n",
       "</g>\n",
       "<!-- 3 -->\n",
       "<g id=\"node4\" class=\"node\">\n",
       "<title>3</title>\n",
       "<path fill=\"#51e890\" stroke=\"#000000\" d=\"M559,-425C559,-425 395,-425 395,-425 389,-425 383,-419 383,-413 383,-413 383,-354 383,-354 383,-348 389,-342 395,-342 395,-342 559,-342 559,-342 565,-342 571,-348 571,-354 571,-354 571,-413 571,-413 571,-419 565,-425 559,-425\"/>\n",
       "<text text-anchor=\"start\" x=\"391\" y=\"-409.8\" font-family=\"Helvetica,sans-Serif\" font-size=\"14.00\" fill=\"#000000\">petal length (cm) ≤ 4.95</text>\n",
       "<text text-anchor=\"start\" x=\"433\" y=\"-394.8\" font-family=\"Helvetica,sans-Serif\" font-size=\"14.00\" fill=\"#000000\">gini = 0.194</text>\n",
       "<text text-anchor=\"start\" x=\"428.5\" y=\"-379.8\" font-family=\"Helvetica,sans-Serif\" font-size=\"14.00\" fill=\"#000000\">samples = 46</text>\n",
       "<text text-anchor=\"start\" x=\"415\" y=\"-364.8\" font-family=\"Helvetica,sans-Serif\" font-size=\"14.00\" fill=\"#000000\">value = [0, 41, 5]</text>\n",
       "<text text-anchor=\"start\" x=\"415\" y=\"-349.8\" font-family=\"Helvetica,sans-Serif\" font-size=\"14.00\" fill=\"#000000\">class = versicolor</text>\n",
       "</g>\n",
       "<!-- 2&#45;&gt;3 -->\n",
       "<g id=\"edge3\" class=\"edge\">\n",
       "<title>2&#45;&gt;3</title>\n",
       "<path fill=\"none\" stroke=\"#000000\" d=\"M560.8821,-460.8796C550.826,-451.6031 540.077,-441.6874 529.7446,-432.1559\"/>\n",
       "<polygon fill=\"#000000\" stroke=\"#000000\" points=\"532.0339,-429.506 522.3105,-425.2981 527.2876,-434.6511 532.0339,-429.506\"/>\n",
       "</g>\n",
       "<!-- 12 -->\n",
       "<g id=\"node13\" class=\"node\">\n",
       "<title>12</title>\n",
       "<path fill=\"#853fe6\" stroke=\"#000000\" d=\"M818,-425C818,-425 654,-425 654,-425 648,-425 642,-419 642,-413 642,-413 642,-354 642,-354 642,-348 648,-342 654,-342 654,-342 818,-342 818,-342 824,-342 830,-348 830,-354 830,-354 830,-413 830,-413 830,-419 824,-425 818,-425\"/>\n",
       "<text text-anchor=\"start\" x=\"650\" y=\"-409.8\" font-family=\"Helvetica,sans-Serif\" font-size=\"14.00\" fill=\"#000000\">petal length (cm) ≤ 4.85</text>\n",
       "<text text-anchor=\"start\" x=\"692\" y=\"-394.8\" font-family=\"Helvetica,sans-Serif\" font-size=\"14.00\" fill=\"#000000\">gini = 0.054</text>\n",
       "<text text-anchor=\"start\" x=\"687.5\" y=\"-379.8\" font-family=\"Helvetica,sans-Serif\" font-size=\"14.00\" fill=\"#000000\">samples = 36</text>\n",
       "<text text-anchor=\"start\" x=\"674\" y=\"-364.8\" font-family=\"Helvetica,sans-Serif\" font-size=\"14.00\" fill=\"#000000\">value = [0, 1, 35]</text>\n",
       "<text text-anchor=\"start\" x=\"678.5\" y=\"-349.8\" font-family=\"Helvetica,sans-Serif\" font-size=\"14.00\" fill=\"#000000\">class = virginica</text>\n",
       "</g>\n",
       "<!-- 2&#45;&gt;12 -->\n",
       "<g id=\"edge12\" class=\"edge\">\n",
       "<title>2&#45;&gt;12</title>\n",
       "<path fill=\"none\" stroke=\"#000000\" d=\"M651.4677,-460.8796C661.6017,-451.6031 672.434,-441.6874 682.8465,-432.1559\"/>\n",
       "<polygon fill=\"#000000\" stroke=\"#000000\" points=\"685.3252,-434.6319 690.3382,-425.2981 680.5987,-429.4685 685.3252,-434.6319\"/>\n",
       "</g>\n",
       "<!-- 4 -->\n",
       "<g id=\"node5\" class=\"node\">\n",
       "<title>4</title>\n",
       "<path fill=\"#3ee684\" stroke=\"#000000\" d=\"M303,-306C303,-306 145,-306 145,-306 139,-306 133,-300 133,-294 133,-294 133,-235 133,-235 133,-229 139,-223 145,-223 145,-223 303,-223 303,-223 309,-223 315,-229 315,-235 315,-235 315,-294 315,-294 315,-300 309,-306 303,-306\"/>\n",
       "<text text-anchor=\"start\" x=\"141\" y=\"-290.8\" font-family=\"Helvetica,sans-Serif\" font-size=\"14.00\" fill=\"#000000\">petal width (cm) ≤ 1.65</text>\n",
       "<text text-anchor=\"start\" x=\"180\" y=\"-275.8\" font-family=\"Helvetica,sans-Serif\" font-size=\"14.00\" fill=\"#000000\">gini = 0.049</text>\n",
       "<text text-anchor=\"start\" x=\"175.5\" y=\"-260.8\" font-family=\"Helvetica,sans-Serif\" font-size=\"14.00\" fill=\"#000000\">samples = 40</text>\n",
       "<text text-anchor=\"start\" x=\"162\" y=\"-245.8\" font-family=\"Helvetica,sans-Serif\" font-size=\"14.00\" fill=\"#000000\">value = [0, 39, 1]</text>\n",
       "<text text-anchor=\"start\" x=\"162\" y=\"-230.8\" font-family=\"Helvetica,sans-Serif\" font-size=\"14.00\" fill=\"#000000\">class = versicolor</text>\n",
       "</g>\n",
       "<!-- 3&#45;&gt;4 -->\n",
       "<g id=\"edge4\" class=\"edge\">\n",
       "<title>3&#45;&gt;4</title>\n",
       "<path fill=\"none\" stroke=\"#000000\" d=\"M388.5129,-341.8796C366.9426,-331.7339 343.7467,-320.8235 321.7719,-310.4876\"/>\n",
       "<polygon fill=\"#000000\" stroke=\"#000000\" points=\"322.9759,-307.1861 312.4372,-306.0969 319.9965,-313.5204 322.9759,-307.1861\"/>\n",
       "</g>\n",
       "<!-- 7 -->\n",
       "<g id=\"node8\" class=\"node\">\n",
       "<title>7</title>\n",
       "<path fill=\"#c09cf2\" stroke=\"#000000\" d=\"M556,-306C556,-306 398,-306 398,-306 392,-306 386,-300 386,-294 386,-294 386,-235 386,-235 386,-229 392,-223 398,-223 398,-223 556,-223 556,-223 562,-223 568,-229 568,-235 568,-235 568,-294 568,-294 568,-300 562,-306 556,-306\"/>\n",
       "<text text-anchor=\"start\" x=\"394\" y=\"-290.8\" font-family=\"Helvetica,sans-Serif\" font-size=\"14.00\" fill=\"#000000\">petal width (cm) ≤ 1.55</text>\n",
       "<text text-anchor=\"start\" x=\"433\" y=\"-275.8\" font-family=\"Helvetica,sans-Serif\" font-size=\"14.00\" fill=\"#000000\">gini = 0.444</text>\n",
       "<text text-anchor=\"start\" x=\"433\" y=\"-260.8\" font-family=\"Helvetica,sans-Serif\" font-size=\"14.00\" fill=\"#000000\">samples = 6</text>\n",
       "<text text-anchor=\"start\" x=\"419.5\" y=\"-245.8\" font-family=\"Helvetica,sans-Serif\" font-size=\"14.00\" fill=\"#000000\">value = [0, 2, 4]</text>\n",
       "<text text-anchor=\"start\" x=\"419.5\" y=\"-230.8\" font-family=\"Helvetica,sans-Serif\" font-size=\"14.00\" fill=\"#000000\">class = virginica</text>\n",
       "</g>\n",
       "<!-- 3&#45;&gt;7 -->\n",
       "<g id=\"edge7\" class=\"edge\">\n",
       "<title>3&#45;&gt;7</title>\n",
       "<path fill=\"none\" stroke=\"#000000\" d=\"M477,-341.8796C477,-333.6838 477,-324.9891 477,-316.5013\"/>\n",
       "<polygon fill=\"#000000\" stroke=\"#000000\" points=\"480.5001,-316.298 477,-306.2981 473.5001,-316.2981 480.5001,-316.298\"/>\n",
       "</g>\n",
       "<!-- 5 -->\n",
       "<g id=\"node6\" class=\"node\">\n",
       "<title>5</title>\n",
       "<path fill=\"#39e581\" stroke=\"#000000\" d=\"M128,-179.5C128,-179.5 12,-179.5 12,-179.5 6,-179.5 0,-173.5 0,-167.5 0,-167.5 0,-123.5 0,-123.5 0,-117.5 6,-111.5 12,-111.5 12,-111.5 128,-111.5 128,-111.5 134,-111.5 140,-117.5 140,-123.5 140,-123.5 140,-167.5 140,-167.5 140,-173.5 134,-179.5 128,-179.5\"/>\n",
       "<text text-anchor=\"start\" x=\"35\" y=\"-164.3\" font-family=\"Helvetica,sans-Serif\" font-size=\"14.00\" fill=\"#000000\">gini = 0.0</text>\n",
       "<text text-anchor=\"start\" x=\"21.5\" y=\"-149.3\" font-family=\"Helvetica,sans-Serif\" font-size=\"14.00\" fill=\"#000000\">samples = 39</text>\n",
       "<text text-anchor=\"start\" x=\"8\" y=\"-134.3\" font-family=\"Helvetica,sans-Serif\" font-size=\"14.00\" fill=\"#000000\">value = [0, 39, 0]</text>\n",
       "<text text-anchor=\"start\" x=\"8\" y=\"-119.3\" font-family=\"Helvetica,sans-Serif\" font-size=\"14.00\" fill=\"#000000\">class = versicolor</text>\n",
       "</g>\n",
       "<!-- 4&#45;&gt;5 -->\n",
       "<g id=\"edge5\" class=\"edge\">\n",
       "<title>4&#45;&gt;5</title>\n",
       "<path fill=\"none\" stroke=\"#000000\" d=\"M170.1383,-222.8796C154.7696,-211.0038 138.0453,-198.0804 122.7441,-186.2568\"/>\n",
       "<polygon fill=\"#000000\" stroke=\"#000000\" points=\"124.4605,-183.1599 114.4076,-179.8149 120.1804,-188.699 124.4605,-183.1599\"/>\n",
       "</g>\n",
       "<!-- 6 -->\n",
       "<g id=\"node7\" class=\"node\">\n",
       "<title>6</title>\n",
       "<path fill=\"#8139e5\" stroke=\"#000000\" d=\"M277.5,-179.5C277.5,-179.5 170.5,-179.5 170.5,-179.5 164.5,-179.5 158.5,-173.5 158.5,-167.5 158.5,-167.5 158.5,-123.5 158.5,-123.5 158.5,-117.5 164.5,-111.5 170.5,-111.5 170.5,-111.5 277.5,-111.5 277.5,-111.5 283.5,-111.5 289.5,-117.5 289.5,-123.5 289.5,-123.5 289.5,-167.5 289.5,-167.5 289.5,-173.5 283.5,-179.5 277.5,-179.5\"/>\n",
       "<text text-anchor=\"start\" x=\"189\" y=\"-164.3\" font-family=\"Helvetica,sans-Serif\" font-size=\"14.00\" fill=\"#000000\">gini = 0.0</text>\n",
       "<text text-anchor=\"start\" x=\"180\" y=\"-149.3\" font-family=\"Helvetica,sans-Serif\" font-size=\"14.00\" fill=\"#000000\">samples = 1</text>\n",
       "<text text-anchor=\"start\" x=\"166.5\" y=\"-134.3\" font-family=\"Helvetica,sans-Serif\" font-size=\"14.00\" fill=\"#000000\">value = [0, 0, 1]</text>\n",
       "<text text-anchor=\"start\" x=\"166.5\" y=\"-119.3\" font-family=\"Helvetica,sans-Serif\" font-size=\"14.00\" fill=\"#000000\">class = virginica</text>\n",
       "</g>\n",
       "<!-- 4&#45;&gt;6 -->\n",
       "<g id=\"edge6\" class=\"edge\">\n",
       "<title>4&#45;&gt;6</title>\n",
       "<path fill=\"none\" stroke=\"#000000\" d=\"M224,-222.8796C224,-212.2134 224,-200.7021 224,-189.9015\"/>\n",
       "<polygon fill=\"#000000\" stroke=\"#000000\" points=\"227.5001,-189.8149 224,-179.8149 220.5001,-189.815 227.5001,-189.8149\"/>\n",
       "</g>\n",
       "<!-- 8 -->\n",
       "<g id=\"node9\" class=\"node\">\n",
       "<title>8</title>\n",
       "<path fill=\"#8139e5\" stroke=\"#000000\" d=\"M426.5,-179.5C426.5,-179.5 319.5,-179.5 319.5,-179.5 313.5,-179.5 307.5,-173.5 307.5,-167.5 307.5,-167.5 307.5,-123.5 307.5,-123.5 307.5,-117.5 313.5,-111.5 319.5,-111.5 319.5,-111.5 426.5,-111.5 426.5,-111.5 432.5,-111.5 438.5,-117.5 438.5,-123.5 438.5,-123.5 438.5,-167.5 438.5,-167.5 438.5,-173.5 432.5,-179.5 426.5,-179.5\"/>\n",
       "<text text-anchor=\"start\" x=\"338\" y=\"-164.3\" font-family=\"Helvetica,sans-Serif\" font-size=\"14.00\" fill=\"#000000\">gini = 0.0</text>\n",
       "<text text-anchor=\"start\" x=\"329\" y=\"-149.3\" font-family=\"Helvetica,sans-Serif\" font-size=\"14.00\" fill=\"#000000\">samples = 3</text>\n",
       "<text text-anchor=\"start\" x=\"315.5\" y=\"-134.3\" font-family=\"Helvetica,sans-Serif\" font-size=\"14.00\" fill=\"#000000\">value = [0, 0, 3]</text>\n",
       "<text text-anchor=\"start\" x=\"315.5\" y=\"-119.3\" font-family=\"Helvetica,sans-Serif\" font-size=\"14.00\" fill=\"#000000\">class = virginica</text>\n",
       "</g>\n",
       "<!-- 7&#45;&gt;8 -->\n",
       "<g id=\"edge8\" class=\"edge\">\n",
       "<title>7&#45;&gt;8</title>\n",
       "<path fill=\"none\" stroke=\"#000000\" d=\"M440.6258,-222.8796C430.6314,-211.4436 419.788,-199.0363 409.7714,-187.575\"/>\n",
       "<polygon fill=\"#000000\" stroke=\"#000000\" points=\"412.2055,-185.0414 402.9895,-179.8149 406.9347,-189.6479 412.2055,-185.0414\"/>\n",
       "</g>\n",
       "<!-- 9 -->\n",
       "<g id=\"node10\" class=\"node\">\n",
       "<title>9</title>\n",
       "<path fill=\"#9cf2c0\" stroke=\"#000000\" d=\"M635.5,-187C635.5,-187 468.5,-187 468.5,-187 462.5,-187 456.5,-181 456.5,-175 456.5,-175 456.5,-116 456.5,-116 456.5,-110 462.5,-104 468.5,-104 468.5,-104 635.5,-104 635.5,-104 641.5,-104 647.5,-110 647.5,-116 647.5,-116 647.5,-175 647.5,-175 647.5,-181 641.5,-187 635.5,-187\"/>\n",
       "<text text-anchor=\"start\" x=\"464.5\" y=\"-171.8\" font-family=\"Helvetica,sans-Serif\" font-size=\"14.00\" fill=\"#000000\">sepal length (cm) ≤ 6.95</text>\n",
       "<text text-anchor=\"start\" x=\"508\" y=\"-156.8\" font-family=\"Helvetica,sans-Serif\" font-size=\"14.00\" fill=\"#000000\">gini = 0.444</text>\n",
       "<text text-anchor=\"start\" x=\"508\" y=\"-141.8\" font-family=\"Helvetica,sans-Serif\" font-size=\"14.00\" fill=\"#000000\">samples = 3</text>\n",
       "<text text-anchor=\"start\" x=\"494.5\" y=\"-126.8\" font-family=\"Helvetica,sans-Serif\" font-size=\"14.00\" fill=\"#000000\">value = [0, 2, 1]</text>\n",
       "<text text-anchor=\"start\" x=\"490\" y=\"-111.8\" font-family=\"Helvetica,sans-Serif\" font-size=\"14.00\" fill=\"#000000\">class = versicolor</text>\n",
       "</g>\n",
       "<!-- 7&#45;&gt;9 -->\n",
       "<g id=\"edge9\" class=\"edge\">\n",
       "<title>7&#45;&gt;9</title>\n",
       "<path fill=\"none\" stroke=\"#000000\" d=\"M503.2314,-222.8796C508.7373,-214.1434 514.6006,-204.8404 520.2824,-195.8253\"/>\n",
       "<polygon fill=\"#000000\" stroke=\"#000000\" points=\"523.2857,-197.6242 525.6567,-187.2981 517.3637,-193.8919 523.2857,-197.6242\"/>\n",
       "</g>\n",
       "<!-- 10 -->\n",
       "<g id=\"node11\" class=\"node\">\n",
       "<title>10</title>\n",
       "<path fill=\"#39e581\" stroke=\"#000000\" d=\"M533,-68C533,-68 417,-68 417,-68 411,-68 405,-62 405,-56 405,-56 405,-12 405,-12 405,-6 411,0 417,0 417,0 533,0 533,0 539,0 545,-6 545,-12 545,-12 545,-56 545,-56 545,-62 539,-68 533,-68\"/>\n",
       "<text text-anchor=\"start\" x=\"440\" y=\"-52.8\" font-family=\"Helvetica,sans-Serif\" font-size=\"14.00\" fill=\"#000000\">gini = 0.0</text>\n",
       "<text text-anchor=\"start\" x=\"431\" y=\"-37.8\" font-family=\"Helvetica,sans-Serif\" font-size=\"14.00\" fill=\"#000000\">samples = 2</text>\n",
       "<text text-anchor=\"start\" x=\"417.5\" y=\"-22.8\" font-family=\"Helvetica,sans-Serif\" font-size=\"14.00\" fill=\"#000000\">value = [0, 2, 0]</text>\n",
       "<text text-anchor=\"start\" x=\"413\" y=\"-7.8\" font-family=\"Helvetica,sans-Serif\" font-size=\"14.00\" fill=\"#000000\">class = versicolor</text>\n",
       "</g>\n",
       "<!-- 9&#45;&gt;10 -->\n",
       "<g id=\"edge10\" class=\"edge\">\n",
       "<title>9&#45;&gt;10</title>\n",
       "<path fill=\"none\" stroke=\"#000000\" d=\"M523.328,-103.9815C517.1715,-95.0666 510.6557,-85.6313 504.4695,-76.6734\"/>\n",
       "<polygon fill=\"#000000\" stroke=\"#000000\" points=\"507.2245,-74.5034 498.6619,-68.2637 501.4645,-78.4811 507.2245,-74.5034\"/>\n",
       "</g>\n",
       "<!-- 11 -->\n",
       "<g id=\"node12\" class=\"node\">\n",
       "<title>11</title>\n",
       "<path fill=\"#8139e5\" stroke=\"#000000\" d=\"M682.5,-68C682.5,-68 575.5,-68 575.5,-68 569.5,-68 563.5,-62 563.5,-56 563.5,-56 563.5,-12 563.5,-12 563.5,-6 569.5,0 575.5,0 575.5,0 682.5,0 682.5,0 688.5,0 694.5,-6 694.5,-12 694.5,-12 694.5,-56 694.5,-56 694.5,-62 688.5,-68 682.5,-68\"/>\n",
       "<text text-anchor=\"start\" x=\"594\" y=\"-52.8\" font-family=\"Helvetica,sans-Serif\" font-size=\"14.00\" fill=\"#000000\">gini = 0.0</text>\n",
       "<text text-anchor=\"start\" x=\"585\" y=\"-37.8\" font-family=\"Helvetica,sans-Serif\" font-size=\"14.00\" fill=\"#000000\">samples = 1</text>\n",
       "<text text-anchor=\"start\" x=\"571.5\" y=\"-22.8\" font-family=\"Helvetica,sans-Serif\" font-size=\"14.00\" fill=\"#000000\">value = [0, 0, 1]</text>\n",
       "<text text-anchor=\"start\" x=\"571.5\" y=\"-7.8\" font-family=\"Helvetica,sans-Serif\" font-size=\"14.00\" fill=\"#000000\">class = virginica</text>\n",
       "</g>\n",
       "<!-- 9&#45;&gt;11 -->\n",
       "<g id=\"edge11\" class=\"edge\">\n",
       "<title>9&#45;&gt;11</title>\n",
       "<path fill=\"none\" stroke=\"#000000\" d=\"M580.672,-103.9815C586.8285,-95.0666 593.3443,-85.6313 599.5305,-76.6734\"/>\n",
       "<polygon fill=\"#000000\" stroke=\"#000000\" points=\"602.5355,-78.4811 605.3381,-68.2637 596.7755,-74.5034 602.5355,-78.4811\"/>\n",
       "</g>\n",
       "<!-- 13 -->\n",
       "<g id=\"node14\" class=\"node\">\n",
       "<title>13</title>\n",
       "<path fill=\"#ffffff\" stroke=\"#000000\" d=\"M819.5,-306C819.5,-306 652.5,-306 652.5,-306 646.5,-306 640.5,-300 640.5,-294 640.5,-294 640.5,-235 640.5,-235 640.5,-229 646.5,-223 652.5,-223 652.5,-223 819.5,-223 819.5,-223 825.5,-223 831.5,-229 831.5,-235 831.5,-235 831.5,-294 831.5,-294 831.5,-300 825.5,-306 819.5,-306\"/>\n",
       "<text text-anchor=\"start\" x=\"648.5\" y=\"-290.8\" font-family=\"Helvetica,sans-Serif\" font-size=\"14.00\" fill=\"#000000\">sepal length (cm) ≤ 6.05</text>\n",
       "<text text-anchor=\"start\" x=\"701\" y=\"-275.8\" font-family=\"Helvetica,sans-Serif\" font-size=\"14.00\" fill=\"#000000\">gini = 0.5</text>\n",
       "<text text-anchor=\"start\" x=\"692\" y=\"-260.8\" font-family=\"Helvetica,sans-Serif\" font-size=\"14.00\" fill=\"#000000\">samples = 2</text>\n",
       "<text text-anchor=\"start\" x=\"678.5\" y=\"-245.8\" font-family=\"Helvetica,sans-Serif\" font-size=\"14.00\" fill=\"#000000\">value = [0, 1, 1]</text>\n",
       "<text text-anchor=\"start\" x=\"674\" y=\"-230.8\" font-family=\"Helvetica,sans-Serif\" font-size=\"14.00\" fill=\"#000000\">class = versicolor</text>\n",
       "</g>\n",
       "<!-- 12&#45;&gt;13 -->\n",
       "<g id=\"edge13\" class=\"edge\">\n",
       "<title>12&#45;&gt;13</title>\n",
       "<path fill=\"none\" stroke=\"#000000\" d=\"M736,-341.8796C736,-333.6838 736,-324.9891 736,-316.5013\"/>\n",
       "<polygon fill=\"#000000\" stroke=\"#000000\" points=\"739.5001,-316.298 736,-306.2981 732.5001,-316.2981 739.5001,-316.298\"/>\n",
       "</g>\n",
       "<!-- 16 -->\n",
       "<g id=\"node17\" class=\"node\">\n",
       "<title>16</title>\n",
       "<path fill=\"#8139e5\" stroke=\"#000000\" d=\"M978,-298.5C978,-298.5 862,-298.5 862,-298.5 856,-298.5 850,-292.5 850,-286.5 850,-286.5 850,-242.5 850,-242.5 850,-236.5 856,-230.5 862,-230.5 862,-230.5 978,-230.5 978,-230.5 984,-230.5 990,-236.5 990,-242.5 990,-242.5 990,-286.5 990,-286.5 990,-292.5 984,-298.5 978,-298.5\"/>\n",
       "<text text-anchor=\"start\" x=\"885\" y=\"-283.3\" font-family=\"Helvetica,sans-Serif\" font-size=\"14.00\" fill=\"#000000\">gini = 0.0</text>\n",
       "<text text-anchor=\"start\" x=\"871.5\" y=\"-268.3\" font-family=\"Helvetica,sans-Serif\" font-size=\"14.00\" fill=\"#000000\">samples = 34</text>\n",
       "<text text-anchor=\"start\" x=\"858\" y=\"-253.3\" font-family=\"Helvetica,sans-Serif\" font-size=\"14.00\" fill=\"#000000\">value = [0, 0, 34]</text>\n",
       "<text text-anchor=\"start\" x=\"862.5\" y=\"-238.3\" font-family=\"Helvetica,sans-Serif\" font-size=\"14.00\" fill=\"#000000\">class = virginica</text>\n",
       "</g>\n",
       "<!-- 12&#45;&gt;16 -->\n",
       "<g id=\"edge16\" class=\"edge\">\n",
       "<title>12&#45;&gt;16</title>\n",
       "<path fill=\"none\" stroke=\"#000000\" d=\"M800.3543,-341.8796C819.3167,-329.6158 840.0066,-316.2348 858.7674,-304.1015\"/>\n",
       "<polygon fill=\"#000000\" stroke=\"#000000\" points=\"860.7421,-306.9926 867.2383,-298.623 856.9407,-301.1148 860.7421,-306.9926\"/>\n",
       "</g>\n",
       "<!-- 14 -->\n",
       "<g id=\"node15\" class=\"node\">\n",
       "<title>14</title>\n",
       "<path fill=\"#39e581\" stroke=\"#000000\" d=\"M794,-179.5C794,-179.5 678,-179.5 678,-179.5 672,-179.5 666,-173.5 666,-167.5 666,-167.5 666,-123.5 666,-123.5 666,-117.5 672,-111.5 678,-111.5 678,-111.5 794,-111.5 794,-111.5 800,-111.5 806,-117.5 806,-123.5 806,-123.5 806,-167.5 806,-167.5 806,-173.5 800,-179.5 794,-179.5\"/>\n",
       "<text text-anchor=\"start\" x=\"701\" y=\"-164.3\" font-family=\"Helvetica,sans-Serif\" font-size=\"14.00\" fill=\"#000000\">gini = 0.0</text>\n",
       "<text text-anchor=\"start\" x=\"692\" y=\"-149.3\" font-family=\"Helvetica,sans-Serif\" font-size=\"14.00\" fill=\"#000000\">samples = 1</text>\n",
       "<text text-anchor=\"start\" x=\"678.5\" y=\"-134.3\" font-family=\"Helvetica,sans-Serif\" font-size=\"14.00\" fill=\"#000000\">value = [0, 1, 0]</text>\n",
       "<text text-anchor=\"start\" x=\"674\" y=\"-119.3\" font-family=\"Helvetica,sans-Serif\" font-size=\"14.00\" fill=\"#000000\">class = versicolor</text>\n",
       "</g>\n",
       "<!-- 13&#45;&gt;14 -->\n",
       "<g id=\"edge14\" class=\"edge\">\n",
       "<title>13&#45;&gt;14</title>\n",
       "<path fill=\"none\" stroke=\"#000000\" d=\"M736,-222.8796C736,-212.2134 736,-200.7021 736,-189.9015\"/>\n",
       "<polygon fill=\"#000000\" stroke=\"#000000\" points=\"739.5001,-189.8149 736,-179.8149 732.5001,-189.815 739.5001,-189.8149\"/>\n",
       "</g>\n",
       "<!-- 15 -->\n",
       "<g id=\"node16\" class=\"node\">\n",
       "<title>15</title>\n",
       "<path fill=\"#8139e5\" stroke=\"#000000\" d=\"M943.5,-179.5C943.5,-179.5 836.5,-179.5 836.5,-179.5 830.5,-179.5 824.5,-173.5 824.5,-167.5 824.5,-167.5 824.5,-123.5 824.5,-123.5 824.5,-117.5 830.5,-111.5 836.5,-111.5 836.5,-111.5 943.5,-111.5 943.5,-111.5 949.5,-111.5 955.5,-117.5 955.5,-123.5 955.5,-123.5 955.5,-167.5 955.5,-167.5 955.5,-173.5 949.5,-179.5 943.5,-179.5\"/>\n",
       "<text text-anchor=\"start\" x=\"855\" y=\"-164.3\" font-family=\"Helvetica,sans-Serif\" font-size=\"14.00\" fill=\"#000000\">gini = 0.0</text>\n",
       "<text text-anchor=\"start\" x=\"846\" y=\"-149.3\" font-family=\"Helvetica,sans-Serif\" font-size=\"14.00\" fill=\"#000000\">samples = 1</text>\n",
       "<text text-anchor=\"start\" x=\"832.5\" y=\"-134.3\" font-family=\"Helvetica,sans-Serif\" font-size=\"14.00\" fill=\"#000000\">value = [0, 0, 1]</text>\n",
       "<text text-anchor=\"start\" x=\"832.5\" y=\"-119.3\" font-family=\"Helvetica,sans-Serif\" font-size=\"14.00\" fill=\"#000000\">class = virginica</text>\n",
       "</g>\n",
       "<!-- 13&#45;&gt;15 -->\n",
       "<g id=\"edge15\" class=\"edge\">\n",
       "<title>13&#45;&gt;15</title>\n",
       "<path fill=\"none\" stroke=\"#000000\" d=\"M789.8617,-222.8796C805.2304,-211.0038 821.9547,-198.0804 837.2559,-186.2568\"/>\n",
       "<polygon fill=\"#000000\" stroke=\"#000000\" points=\"839.8196,-188.699 845.5924,-179.8149 835.5395,-183.1599 839.8196,-188.699\"/>\n",
       "</g>\n",
       "</g>\n",
       "</svg>\n"
      ],
      "text/plain": [
       "<graphviz.files.Source at 0x7f7cd240ca50>"
      ]
     },
     "execution_count": 67,
     "metadata": {},
     "output_type": "execute_result"
    }
   ],
   "source": [
    "iris = load_iris()\n",
    "dot_data = export_graphviz(tree, out_file=None, \n",
    "                                feature_names=iris.feature_names,  \n",
    "                                class_names=iris.target_names,  \n",
    "                                filled=True, rounded=True,  \n",
    "                                special_characters=True)  \n",
    "graph = graphviz.Source(dot_data)  \n",
    "graph "
   ]
  },
  {
   "cell_type": "markdown",
   "metadata": {},
   "source": [
    "## 5. Ekspor model"
   ]
  },
  {
   "cell_type": "code",
   "execution_count": 68,
   "metadata": {},
   "outputs": [
    {
     "data": {
      "text/plain": [
       "['models/model.pkl']"
      ]
     },
     "execution_count": 68,
     "metadata": {},
     "output_type": "execute_result"
    }
   ],
   "source": [
    "dump(tree, \"models/model.pkl\")"
   ]
  }
 ],
 "metadata": {
  "kernelspec": {
   "display_name": "Python 3",
   "language": "python",
   "name": "python3"
  },
  "language_info": {
   "codemirror_mode": {
    "name": "ipython",
    "version": 3
   },
   "file_extension": ".py",
   "mimetype": "text/x-python",
   "name": "python",
   "nbconvert_exporter": "python",
   "pygments_lexer": "ipython3",
   "version": "3.7.6"
  }
 },
 "nbformat": 4,
 "nbformat_minor": 2
}
